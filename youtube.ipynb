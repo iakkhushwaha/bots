{
 "cells": [
  {
   "cell_type": "code",
   "execution_count": 1,
   "metadata": {},
   "outputs": [],
   "source": [
    "# from selenium import webdriver\n",
    "import undetected_chromedriver as uc\n",
    "\n",
    "from selenium.webdriver.common.by import By\n",
    "from selenium.webdriver.common.action_chains import ActionChains\n",
    "from selenium.webdriver.chrome.service import Service\n",
    "from selenium.webdriver.common.keys import Keys\n",
    "from selenium.webdriver.support.ui import WebDriverWait\n",
    "from selenium.webdriver.support import expected_conditions as EC\n",
    "import time\n",
    "from datetime import datetime"
   ]
  },
  {
   "cell_type": "code",
   "execution_count": 4,
   "metadata": {},
   "outputs": [],
   "source": [
    "driver = uc.Chrome()"
   ]
  },
  {
   "cell_type": "code",
   "execution_count": 5,
   "metadata": {},
   "outputs": [],
   "source": [
    "class youtube:\n",
    "    def __init__(self):\n",
    "        self.EMAIL = 'YOUR EMAIL ADDRESS'\n",
    "        self.PASWD = 'YOUR PASSWORD'\n",
    "        self.COMMENT = 'HELLO WORLD'\n",
    "        \n",
    "\n",
    "    def login(self):\n",
    "        '''\n",
    "        Deals with Login in Google account.\n",
    "        Make sure 2 Factor authentication is turned off.\n",
    "        '''\n",
    "        driver.get('https://accounts.google.com/')\n",
    "        time.sleep(2)\n",
    "        \n",
    "        #FIND EMAIL ELEMENT\n",
    "        email = driver.find_element(By.NAME ,'identifier')    \n",
    "        email.send_keys(self.EMAIL)\n",
    "        actions = ActionChains(driver)\n",
    "        actions.send_keys(Keys.ENTER)\n",
    "        actions.perform()\n",
    "        # email.send_keys()\n",
    "        time.sleep(5)\n",
    "    \n",
    "        # FIND Password ELEMENT\n",
    "        passwd = driver.find_element(By.NAME ,'Passwd')\n",
    "        passwd.send_keys(self.PASWD)\n",
    "        actions.send_keys(Keys.ENTER)\n",
    "        actions.perform()\n",
    "    \n",
    "    def cmt_yt(self,link):\n",
    "        '''\n",
    "        Deals with Commenting in youtube \n",
    "        '''\n",
    "        driver.get(link)\n",
    "        time.sleep(3)\n",
    "        # SCROLL BY SOME AMT TO LOAD COMMENT ELEMENT\n",
    "        last_height = driver.execute_script(\"window.scrollBy(0,500)\", \"\")\n",
    "        # time.sleep(5)\n",
    "        \n",
    "        # FINDING COMMENT ELEMENT\n",
    "        comment_sec = WebDriverWait(driver, 10).until(EC.presence_of_element_located((By.CSS_SELECTOR, \"#placeholder-area\")))\n",
    "        # comment_sec = driver.find_element(By.CSS_SELECTOR, '#placeholder-area')\n",
    "        comment_sec.click()\n",
    "        \n",
    "        comment_sec = driver.find_element(By.CSS_SELECTOR, '#contenteditable-root')\n",
    "        comment_sec.send_keys(self.COMMENT)\n",
    "        \n",
    "        \n",
    "        # Comment Button\n",
    "        comment_button = driver.find_element(By.CSS_SELECTOR ,'#submit-button > yt-button-shape > button')\n",
    "        comment_button.click()\n",
    "        print('Commented Successfully')\n",
    "    \n"
   ]
  },
  {
   "cell_type": "code",
   "execution_count": 7,
   "metadata": {},
   "outputs": [],
   "source": [
    "yt = youtube()"
   ]
  },
  {
   "cell_type": "code",
   "execution_count": 8,
   "metadata": {},
   "outputs": [],
   "source": [
    "yt.login()"
   ]
  },
  {
   "cell_type": "code",
   "execution_count": 9,
   "metadata": {},
   "outputs": [],
   "source": [
    "driver.get('https://www.youtube.com/@YT_CHANNEL_USERNAME/streams')"
   ]
  },
  {
   "cell_type": "code",
   "execution_count": null,
   "metadata": {},
   "outputs": [],
   "source": [
    "Videos = driver.find_elements(By.CSS_SELECTOR , '#video-title-link')\n",
    "videos_link = [[i.get_attribute('href') ,i.text] for i in Videos]"
   ]
  },
  {
   "cell_type": "code",
   "execution_count": 13,
   "metadata": {},
   "outputs": [
    {
     "name": "stdout",
     "output_type": "stream",
     "text": [
      "Commented Successfully\n",
      "Commented Successfully\n"
     ]
    }
   ],
   "source": [
    "for i in videos_link:\n",
    "    yt.cmt_yt(i[0])\n",
    "    time.sleep(3)"
   ]
  }
 ],
 "metadata": {
  "kernelspec": {
   "display_name": "Python 3 (ipykernel)",
   "language": "python",
   "name": "python3"
  },
  "language_info": {
   "codemirror_mode": {
    "name": "ipython",
    "version": 3
   },
   "file_extension": ".py",
   "mimetype": "text/x-python",
   "name": "python",
   "nbconvert_exporter": "python",
   "pygments_lexer": "ipython3",
   "version": "3.12.3"
  }
 },
 "nbformat": 4,
 "nbformat_minor": 4
}
